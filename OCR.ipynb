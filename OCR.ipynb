{
 "cells": [
  {
   "attachments": {},
   "cell_type": "markdown",
   "metadata": {},
   "source": [
    "<details>\n",
    "<summary> Anotações </summary>\n",
    "\n",
    "<li> Caminho para o OCR: \"C:\\Tesseract OCR\\tesseract.exe\"\n",
    "\n",
    "<li> https://github.com/madmaze/pytesseract\n",
    "\n",
    "<li> https://github.com/tesseract-ocr/tesseract\n",
    "\n",
    "<li> A detecção de estilo de texto ainda precisa ser desenvolvida mais\n",
    "\n",
    "<br>\n",
    "\n",
    "print(pytesseract.image_to_string(Image.open('test.png'), lang='por'))\n",
    "\n",
    "pdf = pytesseract.image_to_pdf_or_hocr('test.png', extension='pdf')\n",
    "\n",
    "with open('test.pdf', 'w+b') as f:\n",
    "    f.write(pdf) # pdf type is bytes by default\n",
    "\n",
    "</details>"
   ]
  },
  {
   "cell_type": "code",
   "execution_count": 41,
   "metadata": {},
   "outputs": [],
   "source": [
    "# imports\n",
    "\n",
    "from pytesseract import pytesseract as pytess\n",
    "from PIL import Image\n",
    "\n",
    "import os\n",
    "from pdf2image import convert_from_path\n",
    "\n",
    "import cv2\n",
    "import numpy as np\n",
    "\n",
    "# executable\n",
    "\n",
    "folder_executable = r\"C:\\Tesseract OCR\\tesseract.exe\"\n",
    "pytess.tesseract_cmd = folder_executable"
   ]
  },
  {
   "cell_type": "code",
   "execution_count": 42,
   "metadata": {},
   "outputs": [],
   "source": [
    "# Função para aplicar o pré-processamento na imagem\n",
    "def preprocess_image(image):\n",
    "    # Converter para escala de cinza\n",
    "    gray = cv2.cvtColor(image, cv2.COLOR_BGR2GRAY)\n",
    "\n",
    "    # Aplicar limiarização adaptativa para segmentar o texto\n",
    "    threshold = cv2.adaptiveThreshold(\n",
    "        gray, 255, cv2.ADAPTIVE_THRESH_MEAN_C, cv2.THRESH_BINARY, 11, 2\n",
    "    )\n",
    "\n",
    "    # Aplicar filtro de suavização para remover ruídos\n",
    "    smoothed = cv2.medianBlur(threshold, 3)\n",
    "\n",
    "    return smoothed"
   ]
  },
  {
   "cell_type": "code",
   "execution_count": 43,
   "metadata": {},
   "outputs": [],
   "source": [
    "# Função para detectar se uma região contém texto em negrito\n",
    "def is_bold(text):\n",
    "    # Verificar se o texto está em caixa alta (um indicativo comum de negrito)\n",
    "    return text.isupper()\n",
    "\n",
    "\n",
    "# Função para detectar se uma região contém texto em itálico\n",
    "def is_italic(text):\n",
    "    # Implemente sua lógica de detecção de texto em itálico aqui\n",
    "    # Isso pode envolver a análise de inclinação, estilo de fonte, etc.\n",
    "    # Este exemplo é simplificado e apenas verifica se a palavra \"italic\" está presente no texto\n",
    "    return \"italic\" in text.lower()\n",
    "\n",
    "\n",
    "# Função para formatar o texto\n",
    "def format_text(page_number, text):\n",
    "    formatted_text = []\n",
    "\n",
    "    lines = text.strip().split(\"\\n\")\n",
    "    formatted_text.append(\"Page # {}:\".format(str(page_number)))\n",
    "    for line in lines:\n",
    "        if line.isupper():\n",
    "            formatted_text.append(\"Title: \" + line)\n",
    "        elif line.islower():\n",
    "            formatted_text.append(\"Subtitle: \" + line)\n",
    "        else:\n",
    "            if is_bold(line):\n",
    "                formatted_text.append(\"Bold: \" + line)\n",
    "            elif is_italic(line):\n",
    "                formatted_text.append(\"Italic: \" + line)\n",
    "            else:\n",
    "                formatted_text.append(line)\n",
    "\n",
    "    return formatted_text"
   ]
  },
  {
   "cell_type": "code",
   "execution_count": 44,
   "metadata": {},
   "outputs": [
    {
     "name": "stdout",
     "output_type": "stream",
     "text": [
      "Texto salvo no arquivo: output.txt\n"
     ]
    }
   ],
   "source": [
    "# Caminho do arquivo PDF\n",
    "filePath = r'C:\\\\COMPLETE\\\\PATH\\\\MMJJ.pdf'\n",
    "\n",
    "# Converter o PDF em imagens\n",
    "doc = convert_from_path(filePath)\n",
    "\n",
    "# Nome do arquivo de saída\n",
    "output_file = \"output.txt\"\n",
    "\n",
    "# Abrir o arquivo para escrita\n",
    "with open(output_file, \"w\", encoding=\"utf-8\") as file:\n",
    "    # Iterar por cada página do documento\n",
    "    for page_number, page_data in enumerate(doc):\n",
    "        # Pré-processar a imagem da página\n",
    "        processed_image = preprocess_image(np.array(page_data))\n",
    "\n",
    "        # Converter a imagem pré-processada para o formato PIL\n",
    "        pil_image = Image.fromarray(processed_image)\n",
    "\n",
    "        # Reconhecer o texto usando o PyTesseract\n",
    "        txt = pytess.image_to_string(pil_image, lang='por', config='-c preserve_interword_spaces=1')\n",
    "\n",
    "        # Formatar o texto\n",
    "        formatted_text = format_text(page_number, txt)\n",
    "\n",
    "        # Escrever o texto formatado no arquivo\n",
    "        for line in formatted_text:\n",
    "            file.write(line + \"\\n\")\n",
    "\n",
    "print(\"Texto salvo no arquivo:\", output_file)"
   ]
  }
 ],
 "metadata": {
  "kernelspec": {
   "display_name": "base",
   "language": "python",
   "name": "python3"
  },
  "language_info": {
   "codemirror_mode": {
    "name": "ipython",
    "version": 3
   },
   "file_extension": ".py",
   "mimetype": "text/x-python",
   "name": "python",
   "nbconvert_exporter": "python",
   "pygments_lexer": "ipython3",
   "version": "3.9.13"
  },
  "orig_nbformat": 4
 },
 "nbformat": 4,
 "nbformat_minor": 2
}
